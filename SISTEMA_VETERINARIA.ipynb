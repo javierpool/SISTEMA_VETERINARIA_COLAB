{
  "nbformat": 4,
  "nbformat_minor": 0,
  "metadata": {
    "colab": {
      "name": "BIBLIOTECA_recommendation_system_ipynb_txt.ipynb",
      "version": "0.3.2",
      "provenance": [],
      "collapsed_sections": [],
      "toc_visible": true,
      "include_colab_link": true
    },
    "language_info": {
      "codemirror_mode": {
        "name": "ipython",
        "version": 3
      },
      "file_extension": ".py",
      "mimetype": "text/x-python",
      "name": "python",
      "nbconvert_exporter": "python",
      "pygments_lexer": "ipython3",
      "version": "3.6.6"
    },
    "kernelspec": {
      "display_name": "Python 3",
      "language": "python",
      "name": "python3"
    }
  },
  "cells": [
    {
      "cell_type": "markdown",
      "metadata": {
        "id": "view-in-github",
        "colab_type": "text"
      },
      "source": [
        "<a href=\"https://colab.research.google.com/github/LeydiHuallpa/SISTEMA_VETERINARIA_COLAB/blob/master/SISTEMA_VETERINARIA.ipynb\" target=\"_parent\"><img src=\"https://colab.research.google.com/assets/colab-badge.svg\" alt=\"Open In Colab\"/></a>"
      ]
    },
    {
      "cell_type": "markdown",
      "metadata": {
        "_uuid": "d7aa1b0ad6979877450f9cd89e1e37289b51cf6e",
        "id": "ZToySOnYBcTf",
        "colab_type": "text"
      },
      "source": [
        "# **Sistema de Recomendación de Veterinarias**"
      ]
    },
    {
      "cell_type": "markdown",
      "metadata": {
        "id": "t9PEpgzhoAL4",
        "colab_type": "text"
      },
      "source": [
        "# INTEGRANTES\n",
        "\n",
        "* Balaguer Valles Angela\n",
        "* Huallpa Castro Leydi\n",
        "* Pilco Quispe Mireya\n",
        "* Salamanca Contreras Fiorella \n"
      ]
    },
    {
      "cell_type": "markdown",
      "metadata": {
        "_cell_guid": "79c7e3d0-c299-4dcb-8224-4455121ee9b0",
        "_uuid": "d629ff2d2480ee46fbb7e2d37f6b5fab8052498a",
        "collapsed": true,
        "id": "cf3VrYQcBcTg",
        "colab_type": "text"
      },
      "source": [
        "**RESUMEN**\n",
        "\n",
        "The rapid growth of data collection has led to a new era of information. Data is being used to create more efficient systems and this is where Recommendation Systems come into play.  Recommendation Systems are a type of \n"
      ]
    },
    {
      "cell_type": "markdown",
      "metadata": {
        "_uuid": "65dbae55f1e6e06c5fa7251f8ddae887d3fbf480",
        "id": "rLtu7o5uBcTg",
        "colab_type": "text"
      },
      "source": [
        " **INTRODUCCION**\n",
        " They are used to predict the"
      ]
    },
    {
      "cell_type": "markdown",
      "metadata": {
        "_uuid": "af1e8d514096cde4abeae2d65a44cfdb01228d77",
        "id": "NzEbjxd9BcTh",
        "colab_type": "text"
      },
      "source": [
        "**MARCO TEORICO**"
      ]
    },
    {
      "cell_type": "markdown",
      "metadata": {
        "_uuid": "f34fc4dcfba717692c620e1fdfa502ee910c6365",
        "id": "crY0kXrhBcTh",
        "colab_type": "text"
      },
      "source": [
        "In this kernel we'll be building a baseline Movie Recommendation System using [TMDB 5000 Movie Dataset](https://www.kaggle.com/tmdb/tmdb-movie-metadata). "
      ]
    },
    {
      "cell_type": "markdown",
      "metadata": {
        "_uuid": "1fa8fc3cb8348853bb51472b248134a59c24bf60",
        "id": "un5M-ragBcTi",
        "colab_type": "text"
      },
      "source": [
        "**EJEMPLO**"
      ]
    },
    {
      "cell_type": "code",
      "metadata": {
        "_uuid": "c1fdd129c1cbab68ae3e6bf2062575f01f80b87c",
        "id": "C1uP4HB4BcTk",
        "colab_type": "code",
        "outputId": "767b7397-94fc-4943-8917-7a2848132309",
        "colab": {
          "base_uri": "https://localhost:8080/",
          "height": 491
        }
      },
      "source": [
        "import pandas as pd \n",
        "import numpy as np \n",
        "\n",
        "# visualization libraries\n",
        "import matplotlib.pyplot as plt\n",
        "import seaborn as sns\n",
        "\n",
        "\n",
        "# print the graphs in the notebook\n",
        "% matplotlib inline\n",
        "\n",
        "# set seaborn style to white\n",
        "sns.set_style(\"white\")\n",
        "\n",
        "filecsv = \"veterinarias.csv\"\n",
        "tips = pd.read_csv(filecsv)\n",
        "\n",
        "tips"
      ],
      "execution_count": 26,
      "outputs": [
        {
          "output_type": "execute_result",
          "data": {
            "text/html": [
              "<div>\n",
              "<style scoped>\n",
              "    .dataframe tbody tr th:only-of-type {\n",
              "        vertical-align: middle;\n",
              "    }\n",
              "\n",
              "    .dataframe tbody tr th {\n",
              "        vertical-align: top;\n",
              "    }\n",
              "\n",
              "    .dataframe thead th {\n",
              "        text-align: right;\n",
              "    }\n",
              "</style>\n",
              "<table border=\"1\" class=\"dataframe\">\n",
              "  <thead>\n",
              "    <tr style=\"text-align: right;\">\n",
              "      <th></th>\n",
              "      <th>nom_vet</th>\n",
              "      <th>dir_vet</th>\n",
              "      <th>clientes_vet</th>\n",
              "    </tr>\n",
              "  </thead>\n",
              "  <tbody>\n",
              "    <tr>\n",
              "      <th>1</th>\n",
              "      <td>Veterinaria Pets Planet</td>\n",
              "      <td>Avenida Varela 393</td>\n",
              "      <td>150</td>\n",
              "    </tr>\n",
              "    <tr>\n",
              "      <th>2</th>\n",
              "      <td>PAW PET Clínica Veterinaria y Peluquería</td>\n",
              "      <td>San Martín 1122</td>\n",
              "      <td>200</td>\n",
              "    </tr>\n",
              "    <tr>\n",
              "      <th>3</th>\n",
              "      <td>Bocchio y Cia S.A.C</td>\n",
              "      <td>Kennedy 100</td>\n",
              "      <td>100</td>\n",
              "    </tr>\n",
              "    <tr>\n",
              "      <th>4</th>\n",
              "      <td>Veterinaria Mi Mascotita</td>\n",
              "      <td>Calle Deustua 555</td>\n",
              "      <td>150</td>\n",
              "    </tr>\n",
              "    <tr>\n",
              "      <th>5</th>\n",
              "      <td>Veterinaria Linares</td>\n",
              "      <td>Avenida Grau 350</td>\n",
              "      <td>120</td>\n",
              "    </tr>\n",
              "    <tr>\n",
              "      <th>6</th>\n",
              "      <td>El Club de Mi Mascota</td>\n",
              "      <td>Calle Bolívar 143-C</td>\n",
              "      <td>160</td>\n",
              "    </tr>\n",
              "    <tr>\n",
              "      <th>7</th>\n",
              "      <td>Veterinaria Sudamericana</td>\n",
              "      <td>Calle Atahualpa 102</td>\n",
              "      <td>187</td>\n",
              "    </tr>\n",
              "    <tr>\n",
              "      <th>8</th>\n",
              "      <td>Vetmedic</td>\n",
              "      <td>Calle Blondell 338</td>\n",
              "      <td>160</td>\n",
              "    </tr>\n",
              "    <tr>\n",
              "      <th>9</th>\n",
              "      <td>Agroveterinaria Caplina E.I.R.L.</td>\n",
              "      <td>Alto de la Alianza - Tacna</td>\n",
              "      <td>120</td>\n",
              "    </tr>\n",
              "    <tr>\n",
              "      <th>10</th>\n",
              "      <td>Animal Center</td>\n",
              "      <td>Avenida Gral. Varela 359  357</td>\n",
              "      <td>125</td>\n",
              "    </tr>\n",
              "    <tr>\n",
              "      <th>11</th>\n",
              "      <td>Clínica Veterinaria Cruz del Sur</td>\n",
              "      <td>Asociación Eduardo Perez Gamboa</td>\n",
              "      <td>167</td>\n",
              "    </tr>\n",
              "    <tr>\n",
              "      <th>12</th>\n",
              "      <td>VETERINARIA ZELA</td>\n",
              "      <td>Gral Vizquerra</td>\n",
              "      <td>169</td>\n",
              "    </tr>\n",
              "    <tr>\n",
              "      <th>13</th>\n",
              "      <td>Clínica de Diana Cutipa</td>\n",
              "      <td>Tacna 1234</td>\n",
              "      <td>150</td>\n",
              "    </tr>\n",
              "    <tr>\n",
              "      <th>14</th>\n",
              "      <td>DonKan Veterinaria</td>\n",
              "      <td>Av. Augusto B Leguia</td>\n",
              "      <td>203</td>\n",
              "    </tr>\n",
              "    <tr>\n",
              "      <th>15</th>\n",
              "      <td>El Club De Mi Mascota</td>\n",
              "      <td>Calle Bolívar 143</td>\n",
              "      <td>195</td>\n",
              "    </tr>\n",
              "  </tbody>\n",
              "</table>\n",
              "</div>"
            ],
            "text/plain": [
              "                                     nom_vet  ... clientes_vet\n",
              "1                    Veterinaria Pets Planet  ...          150\n",
              "2   PAW PET Clínica Veterinaria y Peluquería  ...          200\n",
              "3                        Bocchio y Cia S.A.C  ...          100\n",
              "4                  Veterinaria Mi Mascotita   ...          150\n",
              "5                        Veterinaria Linares  ...          120\n",
              "6                     El Club de Mi Mascota   ...          160\n",
              "7                  Veterinaria Sudamericana   ...          187\n",
              "8                                   Vetmedic  ...          160\n",
              "9          Agroveterinaria Caplina E.I.R.L.   ...          120\n",
              "10                            Animal Center   ...          125\n",
              "11         Clínica Veterinaria Cruz del Sur   ...          167\n",
              "12                          VETERINARIA ZELA  ...          169\n",
              "13                   Clínica de Diana Cutipa  ...          150\n",
              "14                        DonKan Veterinaria  ...          203\n",
              "15                     El Club De Mi Mascota  ...          195\n",
              "\n",
              "[15 rows x 3 columns]"
            ]
          },
          "metadata": {
            "tags": []
          },
          "execution_count": 26
        }
      ]
    },
    {
      "cell_type": "markdown",
      "metadata": {
        "_uuid": "ee603279675033fc397f0c94738e20b34f35312b",
        "id": "dQf6OdrtBcTr",
        "colab_type": "text"
      },
      "source": [
        "# **Demostracion Grafica** -\n"
      ]
    },
    {
      "cell_type": "code",
      "metadata": {
        "_uuid": "5799b99c5e5ed5b7723ae8b31e1fc9fb1e7b89ec",
        "id": "YN-PG0qrBcTr",
        "colab_type": "code",
        "outputId": "72f636b2-c089-4833-bee9-56f833d4177e",
        "colab": {
          "base_uri": "https://localhost:8080/",
          "height": 290
        }
      },
      "source": [
        "tips.plot.bar()"
      ],
      "execution_count": 19,
      "outputs": [
        {
          "output_type": "execute_result",
          "data": {
            "text/plain": [
              "<matplotlib.axes._subplots.AxesSubplot at 0x7febe6afedd8>"
            ]
          },
          "metadata": {
            "tags": []
          },
          "execution_count": 19
        },
        {
          "output_type": "display_data",
          "data": {
            "image/png": "[encoded data removed]",
            "text/plain": [
              "<Figure size 432x288 with 1 Axes>"
            ]
          },
          "metadata": {
            "tags": []
          }
        }
      ]
    },
    {
      "cell_type": "code",
      "metadata": {
        "id": "dqMqDFV9kAJS",
        "colab_type": "code",
        "colab": {
          "base_uri": "https://localhost:8080/",
          "height": 286
        },
        "outputId": "f751b297-12a4-4a95-c042-cbc910104c21"
      },
      "source": [
        "tips['clientes_vet'].hist()"
      ],
      "execution_count": 22,
      "outputs": [
        {
          "output_type": "execute_result",
          "data": {
            "text/plain": [
              "<matplotlib.axes._subplots.AxesSubplot at 0x7febe41a9240>"
            ]
          },
          "metadata": {
            "tags": []
          },
          "execution_count": 22
        },
        {
          "output_type": "display_data",
          "data": {
            "image/png": "[encoded data removed]",
            "text/plain": [
              "<Figure size 432x288 with 1 Axes>"
            ]
          },
          "metadata": {
            "tags": []
          }
        }
      ]
    },
    {
      "cell_type": "code",
      "metadata": {
        "id": "6kgnGS0Jkgri",
        "colab_type": "code",
        "colab": {
          "base_uri": "https://localhost:8080/",
          "height": 295
        },
        "outputId": "e58f3ad2-a853-4b1e-852a-321678fbc595"
      },
      "source": [
        "# create histogram\n",
        "ttbill = sns.distplot(tips['clientes_vet']);\n",
        "\n",
        "# set lables and titles\n",
        "ttbill.set(xlabel = 'Value', ylabel = 'Frequency', title = \"Total de clientes\")\n",
        "\n",
        "# take out the right and upper borders\n",
        "sns.despine()"
      ],
      "execution_count": 27,
      "outputs": [
        {
          "output_type": "display_data",
          "data": {
            "image/png": "[encoded data removed]",
            "text/plain": [
              "<Figure size 432x288 with 1 Axes>"
            ]
          },
          "metadata": {
            "tags": []
          }
        }
      ]
    },
    {
      "cell_type": "code",
      "metadata": {
        "id": "_li7W9jjlSJq",
        "colab_type": "code",
        "colab": {
          "base_uri": "https://localhost:8080/",
          "height": 206
        },
        "outputId": "265ff66a-87b4-4e6c-8196-6b604ffcbcf3"
      },
      "source": [
        "sns.pairplot(tips, kind='reg')"
      ],
      "execution_count": 30,
      "outputs": [
        {
          "output_type": "execute_result",
          "data": {
            "text/plain": [
              "<seaborn.axisgrid.PairGrid at 0x7febe412fd68>"
            ]
          },
          "metadata": {
            "tags": []
          },
          "execution_count": 30
        },
        {
          "output_type": "display_data",
          "data": {
            "image/png": "[encoded data removed]",
            "text/plain": [
              "<Figure size 180x180 with 2 Axes>"
            ]
          },
          "metadata": {
            "tags": []
          }
        }
      ]
    },
    {
      "cell_type": "code",
      "metadata": {
        "id": "TWa4eXlMmNTv",
        "colab_type": "code",
        "colab": {
          "base_uri": "https://localhost:8080/",
          "height": 286
        },
        "outputId": "808b71e5-9a2a-4a95-a628-14b9d790b145"
      },
      "source": [
        "tips.plot.area(alpha=0.4)"
      ],
      "execution_count": 33,
      "outputs": [
        {
          "output_type": "execute_result",
          "data": {
            "text/plain": [
              "<matplotlib.axes._subplots.AxesSubplot at 0x7febda2c86d8>"
            ]
          },
          "metadata": {
            "tags": []
          },
          "execution_count": 33
        },
        {
          "output_type": "display_data",
          "data": {
            "image/png": "[encoded data removed]",
            "text/plain": [
              "<Figure size 432x288 with 1 Axes>"
            ]
          },
          "metadata": {
            "tags": []
          }
        }
      ]
    },
    {
      "cell_type": "markdown",
      "metadata": {
        "id": "7aI1L4YFnWNx",
        "colab_type": "text"
      },
      "source": [
        "**CONCLUSIONES**"
      ]
    },
    {
      "cell_type": "markdown",
      "metadata": {
        "id": "RtrFLTrgnX2Z",
        "colab_type": "text"
      },
      "source": [
        "**BIBLIOGRAFIA**"
      ]
    }
  ]
}